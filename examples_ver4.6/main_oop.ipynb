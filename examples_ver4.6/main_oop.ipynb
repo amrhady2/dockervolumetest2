{
 "cells": [
  {
   "cell_type": "code",
   "execution_count": 1,
   "id": "8fc26764",
   "metadata": {},
   "outputs": [],
   "source": [
    "from Equipments import *"
   ]
  },
  {
   "cell_type": "code",
   "execution_count": 4,
   "id": "799a2eb0",
   "metadata": {},
   "outputs": [
    {
     "name": "stdout",
     "output_type": "stream",
     "text": [
      "microcontroller1\n",
      "850\n",
      "32\n",
      "16\n",
      "4\n",
      "2\n",
      "tcp/ip\n"
     ]
    }
   ],
   "source": [
    "fastfeed = Equipment('microcontroller1', 850, 32, 16, 4, 2, 'tcp/ip', 'Fastfeed small', 7.5)\n",
    "fastfeed.display()"
   ]
  },
  {
   "cell_type": "code",
   "execution_count": 5,
   "id": "a261b5d2",
   "metadata": {},
   "outputs": [
    {
     "name": "stdout",
     "output_type": "stream",
     "text": [
      "Controller brand is microcontroller1\n",
      "Controller model is 850\n",
      "Controller model is 32\n",
      "Controller model is 16\n",
      "Controller model is 4\n",
      "Controller model is 2\n",
      "Controller model is tcp/ip\n",
      "Equipment horsepower 7.5\n"
     ]
    }
   ],
   "source": [
    "fastfeed.details()"
   ]
  },
  {
   "cell_type": "code",
   "execution_count": null,
   "id": "314db850",
   "metadata": {},
   "outputs": [],
   "source": []
  }
 ],
 "metadata": {
  "kernelspec": {
   "display_name": "Python 3",
   "language": "python",
   "name": "python3"
  },
  "language_info": {
   "codemirror_mode": {
    "name": "ipython",
    "version": 3
   },
   "file_extension": ".py",
   "mimetype": "text/x-python",
   "name": "python",
   "nbconvert_exporter": "python",
   "pygments_lexer": "ipython3",
   "version": "3.8.8"
  }
 },
 "nbformat": 4,
 "nbformat_minor": 5
}
