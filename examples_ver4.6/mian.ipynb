{
 "cells": [
  {
   "cell_type": "code",
   "execution_count": 1,
   "id": "450f1be7",
   "metadata": {},
   "outputs": [],
   "source": [
    "##This program to read data from PLC mirco 800- AB, creare log, update data in the cloud, send SMS and Emails in case of alarms\n",
    "\n",
    "#import timeit\n",
    "#from datetime import datetime\n",
    "#from tags import *\n",
    "#import matplotlib.pyplot as plt\n",
    "#from lgx_gui_test import *\n",
    "#from flask import Flask, render_template, request\n",
    "# import os.path\n",
    "# import quandl\n",
    "# import csv\n",
    "#from generic_messaging import *\n",
    "\n",
    "from basic_reads import *\n",
    "from basic_writes import *\n",
    "from send_sms import *\n",
    "from send_email import *\n",
    "import time\n",
    "import pandas as pd\n",
    "import gspread"
   ]
  },
  {
   "cell_type": "code",
   "execution_count": 2,
   "id": "c844f21b",
   "metadata": {},
   "outputs": [
    {
     "name": "stdout",
     "output_type": "stream",
     "text": [
      "succesfully established connection with JETNANO and google spread sheet\n"
     ]
    }
   ],
   "source": [
    "#_____open API for google sheet to update the data log\n",
    "try:\n",
    "\n",
    "    gc = gspread.service_account(filename='fast-feed-alerts.json')\n",
    "    sh=gc.open('fast-feed-alert')\n",
    "    shProfile = sh.get_worksheet(1)\n",
    "    shData_log = sh.get_worksheet(0)\n",
    "    shData_log.append_row(['JETSON', 'NANO',  'CONNECTED TO', 'FASTFEED', ' Micro 800 - AB'])\n",
    "    print('succesfully established connection with JETNANO and google spread sheet')\n",
    "except Exception as e:\n",
    "    print('Failed to open connection with gspread API, Error: ', str(e))\n"
   ]
  },
  {
   "cell_type": "markdown",
   "id": "cb4b21c2",
   "metadata": {},
   "source": [
    "# Send Data to Google sheets, Send message, and Email\n"
   ]
  },
  {
   "cell_type": "code",
   "execution_count": 3,
   "id": "d6278946",
   "metadata": {},
   "outputs": [
    {
     "name": "stdout",
     "output_type": "stream",
     "text": [
      "__________________Program_Start______________________\n",
      "___________open connection with google sheet API and updated row index_______________\n",
      " cannot print Log, Error:  failed to open a connection\n",
      "Failed to send data to google sheet; Error: failed to open a connection\n",
      "Alert SMS for high level limit cannot be sent, Error: failed to open a connection\n",
      "Alert SMS for low level limit cannot be sent, Error: failed to open a connection\n",
      "DataFrame_log cannot be updated,updated with Null instead, Error: failed to open a connection\n",
      " cannot print Log, Error:  failed to open a connection\n",
      "Failed to send data to google sheet; Error: failed to open a connection\n",
      "Alert SMS for high level limit cannot be sent, Error: failed to open a connection\n",
      "Alert SMS for low level limit cannot be sent, Error: failed to open a connection\n",
      "DataFrame_log cannot be updated,updated with Null instead, Error: failed to open a connection\n",
      " cannot print Log, Error:  failed to open a connection\n",
      "Failed to send data to google sheet; Error: failed to open a connection\n",
      "Alert SMS for high level limit cannot be sent, Error: failed to open a connection\n",
      "Alert SMS for low level limit cannot be sent, Error: failed to open a connection\n",
      "DataFrame_log cannot be updated,updated with Null instead, Error: failed to open a connection\n",
      " cannot print Log, Error:  failed to open a connection\n",
      "Failed to send data to google sheet; Error: failed to open a connection\n",
      "Alert SMS for high level limit cannot be sent, Error: failed to open a connection\n",
      "Alert SMS for low level limit cannot be sent, Error: failed to open a connection\n",
      "DataFrame_log cannot be updated,updated with Null instead, Error: failed to open a connection\n",
      " cannot print Log, Error:  failed to open a connection\n",
      "Failed to send data to google sheet; Error: failed to open a connection\n",
      "Alert SMS for high level limit cannot be sent, Error: failed to open a connection\n",
      "Alert SMS for low level limit cannot be sent, Error: failed to open a connection\n",
      "DataFrame_log cannot be updated,updated with Null instead, Error: failed to open a connection\n",
      "Program time taken:   54.04934215545654\n",
      "Fri Feb 18 12:42:03 2022\n",
      "PATH1 C:\\ML_Projects\\ABB_Pycomm_ver_2\\examples\\Datasets\\Datalog_Fri_Feb_18_12-42-03_2022.csv\n"
     ]
    }
   ],
   "source": [
    "#___________________Send SMS____________\n",
    "#___________________Send Email____________\n",
    "#___________________Send Data to google Sheet\n",
    "#___________________Send Null Data to Google Sheet in case of lost connection_____________\n",
    "\n",
    "df = pd.DataFrame()\n",
    "start = time.time()\n",
    "\n",
    "send_message = False\n",
    "low_to_high =  True\n",
    "high_to_low =  False\n",
    "\n",
    "\n",
    "print('__________________Program_Start______________________')\n",
    "\n",
    "try:\n",
    "    shData_log.append_row(['Time' ,'_IO_EM_DI_00: Button', '_IO_EM_DI_01: Capactive', '_IO_EM_DI_02: Inductive', '_IO_EM_DI_03', '_IO_EM_AI_00: Pressure', '_IO_EM_AI_01: Key', '_IO_P3_AO_00','_IO_P3_AO_01' ,'_IO_EM_DO_08 Lamp' ])\n",
    "    print('___________open connection with google sheet API and updated row index_______________')\n",
    "except Exception as e:\n",
    "    print('Failed to open connection to gspread API, Error: ', str(e))\n",
    "\n",
    "\n",
    "\n",
    "#while i<2:                   # Activated if we want to run the program forever\n",
    "x = 60*60*2                   # Activated if we want to run the program for specific duration (seconds * minutes *hours)\n",
    "for i in range(5):                              # we can just specifiy how many datalog we want\n",
    "    #time.sleep(.7)\n",
    "    seconds = time.time()\n",
    "    local_time = time.ctime(seconds)\n",
    "    \n",
    "    #__________print datalog locally___________\n",
    "    try:\n",
    "        print(local_time,read_single0().value, read_single1().value, read_single2().value, read_single3().value,\n",
    "              read_singleAI0().value, read_singleAI1().value, read_singleAO0().value, read_singleAO1().value, \n",
    "              read_singleO8().value)\n",
    "    except Exception as e:\n",
    "        print(' cannot print Log, Error: ', str(e))\n",
    "        \n",
    "    \n",
    "    #_________update the cloud_google spread sheet_______________\n",
    "    try:\n",
    "        shData_log.append_row([local_time ,read_single0().value, read_single1().value, read_single2().value, \n",
    "                               read_single3().value, read_singleAI0().value, read_singleAI1().value, read_singleAO0().value,\n",
    "                               read_singleAO1().value,read_singleO8().value])\n",
    "        \n",
    "        print('_______________Cloud_succefully_updated_____________')\n",
    "    except Exception as e:\n",
    "        try:\n",
    "            shData_log.append_row([local_time ,'Null', 'Null', 'Null', 'Null', 'Null', 'Null', 'Null', 'Null', 'Null'])\n",
    "        except Exception as e1:\n",
    "            print(\"Failed to send data to the cloud with NULL, Error: \", str(e1))\n",
    "        print(\"Failed to send data to google sheet; Error: \", str(e))\n",
    "        #time.sleep(5)\n",
    "        \n",
    "        \n",
    "    #__________sending an alarm by email and/or message________________\n",
    "    try:        \n",
    "        if read_singleAI0().value > 50000 and send_message and low_to_high:\n",
    "            message = 'You have exceeded the high-level limit. Take an immediate action please, current reading of the valve position is:    ' + str(read_singleAI0().value)\n",
    "            print(message)\n",
    "            send_sms(message)\n",
    "            send_email(message)\n",
    "\n",
    "            low_to_high =  False\n",
    "            high_to_low = True\n",
    "    except Exception as e:\n",
    "        print('Alert SMS for high level limit cannot be sent, Error: ', str(e))\n",
    "            \n",
    "    #__________sending a confirmation message that everyhing is okay by email and/or message________________   \n",
    "    try:\n",
    "        if read_singleAI0().value < 30000 and send_message and  high_to_low:\n",
    "            message = 'You are all set, Current Reading for valve position:    ' + str(read_singleAI0().value)\n",
    "            print(message)\n",
    "            send_sms(message)\n",
    "            send_email(message)\n",
    "\n",
    "            low_to_high = True\n",
    "            high_to_low = False  \n",
    "    except Exception as e:\n",
    "        print('Alert SMS for low level limit cannot be sent, Error: ', str(e))\n",
    "        \n",
    "    #___________________Save the log to DataFrame____________________________        \n",
    "    try:\n",
    "        \n",
    "        # print(local_time,read_single0().value, read_single1().value, read_single2().value, read_single3().value,\n",
    "        #       read_singleAI0().value, read_singleAI1().value, read_singleAO0().value, read_singleAO1().value, \n",
    "        #       read_singleO8().value)\n",
    "        \n",
    "        df1 = pd.DataFrame(data=(read_single0().value, read_single1().value, read_single2().value, read_single3().value,\n",
    "                                 read_singleAI0().value, read_singleAI1().value, read_singleAO0().value, \n",
    "                                 read_singleAO1().value,read_singleO8().value), columns= {local_time}, \n",
    "                           index = ['_IO_EM_DI_00: Button', '_IO_EM_DI_01: Capactive', '_IO_EM_DI_02: Inductive',\n",
    "                                    '_IO_EM_DI_03', '_IO_EM_AI_00: Pressure', '_IO_EM_AI_01: Key', '_IO_P3_AO_00',\n",
    "                                    '_IO_P3_AO_01' ,'_IO_EM_DO_08 Lamp' ]).T\n",
    "\n",
    "       \n",
    "        df = pd.concat([df, df1])\n",
    "        print('_______________DataFrame_updated_____________')\n",
    "        \n",
    "    except Exception as e:\n",
    "        try:\n",
    "            df1 = pd.DataFrame(data=('Null', 'Null', 'Null', 'Null', 'Null', 'Null', 'Null','Null','Null'),\n",
    "                           columns= {local_time}, index = ['_IO_EM_DI_00: Button', '_IO_EM_DI_01: Capactive', \n",
    "                                                           '_IO_EM_DI_02: Inductive', '_IO_EM_DI_03', \n",
    "                                                           '_IO_EM_AI_00: Pressure', '_IO_EM_AI_01: Key', \n",
    "                                                           '_IO_P3_AO_00','_IO_P3_AO_01' ,'_IO_EM_DO_08 Lamp' ]).T\n",
    "        except Exception as e:\n",
    "            print(\"Failed to update dataframe with NULL\", str(e))\n",
    "                                                                  \n",
    "        print('DataFrame_log cannot be updated, Error: ', str(e))\n",
    "    \n",
    "    \n",
    "    \n",
    "\n",
    "end = time.time()\n",
    "\n",
    "print('Program time taken:  ', end - start)\n",
    "\n",
    "print(local_time)\n",
    "x = str(local_time.replace(\":\",\"-\"))\n",
    "name_of_file = x.replace(\" \", \"_\")\n",
    "\n",
    "# #print(df)\n",
    "# PATH = r'Datalog_' + name_of_file + '.csv' #(use \"r\" before the path string to address special character, such as '\\'). Don't forget to put the file name at the end of the path + '.csv'\n",
    "# df.to_csv(PATH)\n",
    "\n",
    "\n",
    "#Save to windows\n",
    "PATH1 = r'C:\\ML_Projects\\ABB_Pycomm_ver_2\\examples\\Datasets\\Datalog_' + name_of_file + '.csv' #(use \"r\" before the path string to address special character, such as '\\'). Don't forget to put the file name at the end of the path + '.csv'\n",
    "\n",
    "print('PATH1', PATH1)\n",
    "try:\n",
    "    df.to_csv(PATH1)\n",
    "except Exception as e:\n",
    "    print('Failed to save datalog to CSV file, Error: ', str(e))\n",
    "\n",
    "\n",
    "\n",
    "\n",
    "\n",
    "\n"
   ]
  },
  {
   "cell_type": "code",
   "execution_count": 4,
   "id": "4a7a8f61",
   "metadata": {},
   "outputs": [
    {
     "ename": "CommError",
     "evalue": "failed to open a connection",
     "output_type": "error",
     "traceback": [
      "\u001b[1;31m---------------------------------------------------------------------------\u001b[0m",
      "\u001b[1;31mConnectionRefusedError\u001b[0m                    Traceback (most recent call last)",
      "File \u001b[1;32m~\\AppData\\Local\\Packages\\PythonSoftwareFoundation.Python.3.9_qbz5n2kfra8p0\\LocalCache\\local-packages\\Python39\\site-packages\\pycomm3\\cip_driver.py:319\u001b[0m, in \u001b[0;36mCIPDriver.open\u001b[1;34m(self)\u001b[0m\n\u001b[0;32m    <a href='file:///~/AppData/Local/Packages/PythonSoftwareFoundation.Python.3.9_qbz5n2kfra8p0/LocalCache/local-packages/Python39/site-packages/pycomm3/cip_driver.py?line=317'>318</a>\u001b[0m \u001b[39mself\u001b[39m\u001b[39m.\u001b[39m__log\u001b[39m.\u001b[39mdebug(\u001b[39mf\u001b[39m\u001b[39m'\u001b[39m\u001b[39mOpening connection to \u001b[39m\u001b[39m{\u001b[39;00m\u001b[39mself\u001b[39m\u001b[39m.\u001b[39m_cfg[\u001b[39m\"\u001b[39m\u001b[39mip address\u001b[39m\u001b[39m\"\u001b[39m]\u001b[39m}\u001b[39;00m\u001b[39m'\u001b[39m)\n\u001b[1;32m--> <a href='file:///~/AppData/Local/Packages/PythonSoftwareFoundation.Python.3.9_qbz5n2kfra8p0/LocalCache/local-packages/Python39/site-packages/pycomm3/cip_driver.py?line=318'>319</a>\u001b[0m \u001b[39mself\u001b[39;49m\u001b[39m.\u001b[39;49m_sock\u001b[39m.\u001b[39;49mconnect(\u001b[39mself\u001b[39;49m\u001b[39m.\u001b[39;49m_cfg[\u001b[39m\"\u001b[39;49m\u001b[39mip address\u001b[39;49m\u001b[39m\"\u001b[39;49m], \u001b[39mself\u001b[39;49m\u001b[39m.\u001b[39;49m_cfg[\u001b[39m\"\u001b[39;49m\u001b[39mport\u001b[39;49m\u001b[39m\"\u001b[39;49m])\n\u001b[0;32m    <a href='file:///~/AppData/Local/Packages/PythonSoftwareFoundation.Python.3.9_qbz5n2kfra8p0/LocalCache/local-packages/Python39/site-packages/pycomm3/cip_driver.py?line=319'>320</a>\u001b[0m \u001b[39mself\u001b[39m\u001b[39m.\u001b[39m_connection_opened \u001b[39m=\u001b[39m \u001b[39mTrue\u001b[39;00m\n",
      "File \u001b[1;32m~\\AppData\\Local\\Packages\\PythonSoftwareFoundation.Python.3.9_qbz5n2kfra8p0\\LocalCache\\local-packages\\Python39\\site-packages\\pycomm3\\socket_.py:43\u001b[0m, in \u001b[0;36mSocket.connect\u001b[1;34m(self, host, port)\u001b[0m\n\u001b[0;32m     <a href='file:///~/AppData/Local/Packages/PythonSoftwareFoundation.Python.3.9_qbz5n2kfra8p0/LocalCache/local-packages/Python39/site-packages/pycomm3/socket_.py?line=41'>42</a>\u001b[0m \u001b[39mtry\u001b[39;00m:\n\u001b[1;32m---> <a href='file:///~/AppData/Local/Packages/PythonSoftwareFoundation.Python.3.9_qbz5n2kfra8p0/LocalCache/local-packages/Python39/site-packages/pycomm3/socket_.py?line=42'>43</a>\u001b[0m     \u001b[39mself\u001b[39;49m\u001b[39m.\u001b[39;49msock\u001b[39m.\u001b[39;49mconnect((host, port))\n\u001b[0;32m     <a href='file:///~/AppData/Local/Packages/PythonSoftwareFoundation.Python.3.9_qbz5n2kfra8p0/LocalCache/local-packages/Python39/site-packages/pycomm3/socket_.py?line=43'>44</a>\u001b[0m \u001b[39mexcept\u001b[39;00m socket\u001b[39m.\u001b[39mtimeout:\n",
      "\u001b[1;31mConnectionRefusedError\u001b[0m: [WinError 10061] No connection could be made because the target machine actively refused it",
      "\nThe above exception was the direct cause of the following exception:\n",
      "\u001b[1;31mCommError\u001b[0m                                 Traceback (most recent call last)",
      "Input \u001b[1;32mIn [4]\u001b[0m, in \u001b[0;36m<module>\u001b[1;34m\u001b[0m\n\u001b[0;32m      1\u001b[0m \u001b[39m#___________read muliple tags at once_________\u001b[39;00m\n\u001b[1;32m----> 2\u001b[0m \u001b[39mprint\u001b[39m(\u001b[39m'\u001b[39m\u001b[39mread_multiple tags at once: \u001b[39m\u001b[39m\\n\u001b[39;00m\u001b[39m'\u001b[39m ,read_multiple())\n",
      "File \u001b[1;32mc:\\ML_Projects\\ABB_Pycomm_ver_2\\examples\\basic_reads.py:52\u001b[0m, in \u001b[0;36mread_multiple\u001b[1;34m()\u001b[0m\n\u001b[0;32m     <a href='file:///c%3A/ML_Projects/ABB_Pycomm_ver_2/examples/basic_reads.py?line=45'>46</a>\u001b[0m \u001b[39mdef\u001b[39;00m \u001b[39mread_multiple\u001b[39m():\n\u001b[0;32m     <a href='file:///c%3A/ML_Projects/ABB_Pycomm_ver_2/examples/basic_reads.py?line=46'>47</a>\u001b[0m     tags \u001b[39m=\u001b[39m [\u001b[39m'\u001b[39m\u001b[39m_IO_EM_DI_00\u001b[39m\u001b[39m'\u001b[39m, \u001b[39m'\u001b[39m\u001b[39m_IO_EM_DI_01\u001b[39m\u001b[39m'\u001b[39m, \u001b[39m'\u001b[39m\u001b[39m_IO_EM_DI_02\u001b[39m\u001b[39m'\u001b[39m, \u001b[39m'\u001b[39m\u001b[39m_IO_EM_DI_03\u001b[39m\u001b[39m'\u001b[39m, \u001b[39m'\u001b[39m\u001b[39m_IO_EM_DI_04\u001b[39m\u001b[39m'\u001b[39m, \u001b[39m'\u001b[39m\u001b[39m_IO_EM_DI_05\u001b[39m\u001b[39m'\u001b[39m,\n\u001b[0;32m     <a href='file:///c%3A/ML_Projects/ABB_Pycomm_ver_2/examples/basic_reads.py?line=47'>48</a>\u001b[0m              \u001b[39m'\u001b[39m\u001b[39m_IO_EM_DI_06\u001b[39m\u001b[39m'\u001b[39m, \u001b[39m'\u001b[39m\u001b[39m_IO_EM_DI_07\u001b[39m\u001b[39m'\u001b[39m, \u001b[39m'\u001b[39m\u001b[39m_IO_EM_DI_08\u001b[39m\u001b[39m'\u001b[39m\n\u001b[0;32m     <a href='file:///c%3A/ML_Projects/ABB_Pycomm_ver_2/examples/basic_reads.py?line=48'>49</a>\u001b[0m         , \u001b[39m'\u001b[39m\u001b[39m_IO_P2_AI_00\u001b[39m\u001b[39m'\u001b[39m, \u001b[39m'\u001b[39m\u001b[39m_IO_P2_AI_01\u001b[39m\u001b[39m'\u001b[39m, \u001b[39m'\u001b[39m\u001b[39m_IO_EM_DO_00\u001b[39m\u001b[39m'\u001b[39m, \u001b[39m'\u001b[39m\u001b[39m_IO_EM_DO_02\u001b[39m\u001b[39m'\u001b[39m, \u001b[39m'\u001b[39m\u001b[39m_IO_EM_DO_03\u001b[39m\u001b[39m'\u001b[39m, \u001b[39m'\u001b[39m\u001b[39m_IO_EM_DO_04\u001b[39m\u001b[39m'\u001b[39m\n\u001b[0;32m     <a href='file:///c%3A/ML_Projects/ABB_Pycomm_ver_2/examples/basic_reads.py?line=49'>50</a>\u001b[0m         , \u001b[39m'\u001b[39m\u001b[39m_IO_EM_DO_05\u001b[39m\u001b[39m'\u001b[39m, \u001b[39m'\u001b[39m\u001b[39m_IO_EM_DO_06\u001b[39m\u001b[39m'\u001b[39m, \u001b[39m'\u001b[39m\u001b[39m_IO_EM_DO_07\u001b[39m\u001b[39m'\u001b[39m, \u001b[39m'\u001b[39m\u001b[39m_IO_EM_DO_08\u001b[39m\u001b[39m'\u001b[39m]\n\u001b[1;32m---> <a href='file:///c%3A/ML_Projects/ABB_Pycomm_ver_2/examples/basic_reads.py?line=51'>52</a>\u001b[0m     \u001b[39mwith\u001b[39;00m LogixDriver(\u001b[39m'\u001b[39m\u001b[39m192.168.254.198/10\u001b[39m\u001b[39m'\u001b[39m) \u001b[39mas\u001b[39;00m plc:\n\u001b[0;32m     <a href='file:///c%3A/ML_Projects/ABB_Pycomm_ver_2/examples/basic_reads.py?line=52'>53</a>\u001b[0m         \u001b[39mreturn\u001b[39;00m plc\u001b[39m.\u001b[39mread(\u001b[39m*\u001b[39mtags)\n",
      "File \u001b[1;32m~\\AppData\\Local\\Packages\\PythonSoftwareFoundation.Python.3.9_qbz5n2kfra8p0\\LocalCache\\local-packages\\Python39\\site-packages\\pycomm3\\cip_driver.py:162\u001b[0m, in \u001b[0;36mCIPDriver.__enter__\u001b[1;34m(self)\u001b[0m\n\u001b[0;32m    <a href='file:///~/AppData/Local/Packages/PythonSoftwareFoundation.Python.3.9_qbz5n2kfra8p0/LocalCache/local-packages/Python39/site-packages/pycomm3/cip_driver.py?line=160'>161</a>\u001b[0m \u001b[39mdef\u001b[39;00m \u001b[39m__enter__\u001b[39m(\u001b[39mself\u001b[39m):\n\u001b[1;32m--> <a href='file:///~/AppData/Local/Packages/PythonSoftwareFoundation.Python.3.9_qbz5n2kfra8p0/LocalCache/local-packages/Python39/site-packages/pycomm3/cip_driver.py?line=161'>162</a>\u001b[0m     \u001b[39mself\u001b[39;49m\u001b[39m.\u001b[39;49mopen()\n\u001b[0;32m    <a href='file:///~/AppData/Local/Packages/PythonSoftwareFoundation.Python.3.9_qbz5n2kfra8p0/LocalCache/local-packages/Python39/site-packages/pycomm3/cip_driver.py?line=162'>163</a>\u001b[0m     \u001b[39mreturn\u001b[39;00m \u001b[39mself\u001b[39m\n",
      "File \u001b[1;32m~\\AppData\\Local\\Packages\\PythonSoftwareFoundation.Python.3.9_qbz5n2kfra8p0\\LocalCache\\local-packages\\Python39\\site-packages\\pycomm3\\logix_driver.py:162\u001b[0m, in \u001b[0;36mLogixDriver.open\u001b[1;34m(self)\u001b[0m\n\u001b[0;32m    <a href='file:///~/AppData/Local/Packages/PythonSoftwareFoundation.Python.3.9_qbz5n2kfra8p0/LocalCache/local-packages/Python39/site-packages/pycomm3/logix_driver.py?line=160'>161</a>\u001b[0m \u001b[39mdef\u001b[39;00m \u001b[39mopen\u001b[39m(\u001b[39mself\u001b[39m):\n\u001b[1;32m--> <a href='file:///~/AppData/Local/Packages/PythonSoftwareFoundation.Python.3.9_qbz5n2kfra8p0/LocalCache/local-packages/Python39/site-packages/pycomm3/logix_driver.py?line=161'>162</a>\u001b[0m     ret \u001b[39m=\u001b[39m \u001b[39msuper\u001b[39;49m()\u001b[39m.\u001b[39;49mopen()\n\u001b[0;32m    <a href='file:///~/AppData/Local/Packages/PythonSoftwareFoundation.Python.3.9_qbz5n2kfra8p0/LocalCache/local-packages/Python39/site-packages/pycomm3/logix_driver.py?line=162'>163</a>\u001b[0m     \u001b[39mif\u001b[39;00m ret:\n\u001b[0;32m    <a href='file:///~/AppData/Local/Packages/PythonSoftwareFoundation.Python.3.9_qbz5n2kfra8p0/LocalCache/local-packages/Python39/site-packages/pycomm3/logix_driver.py?line=163'>164</a>\u001b[0m         \u001b[39mself\u001b[39m\u001b[39m.\u001b[39m_initialize_driver(\u001b[39m*\u001b[39m\u001b[39m*\u001b[39m\u001b[39mself\u001b[39m\u001b[39m.\u001b[39m_init_args)\n",
      "File \u001b[1;32m~\\AppData\\Local\\Packages\\PythonSoftwareFoundation.Python.3.9_qbz5n2kfra8p0\\LocalCache\\local-packages\\Python39\\site-packages\\pycomm3\\cip_driver.py:328\u001b[0m, in \u001b[0;36mCIPDriver.open\u001b[1;34m(self)\u001b[0m\n\u001b[0;32m    <a href='file:///~/AppData/Local/Packages/PythonSoftwareFoundation.Python.3.9_qbz5n2kfra8p0/LocalCache/local-packages/Python39/site-packages/pycomm3/cip_driver.py?line=325'>326</a>\u001b[0m     \u001b[39mreturn\u001b[39;00m \u001b[39mTrue\u001b[39;00m\n\u001b[0;32m    <a href='file:///~/AppData/Local/Packages/PythonSoftwareFoundation.Python.3.9_qbz5n2kfra8p0/LocalCache/local-packages/Python39/site-packages/pycomm3/cip_driver.py?line=326'>327</a>\u001b[0m \u001b[39mexcept\u001b[39;00m \u001b[39mException\u001b[39;00m \u001b[39mas\u001b[39;00m err:\n\u001b[1;32m--> <a href='file:///~/AppData/Local/Packages/PythonSoftwareFoundation.Python.3.9_qbz5n2kfra8p0/LocalCache/local-packages/Python39/site-packages/pycomm3/cip_driver.py?line=327'>328</a>\u001b[0m     \u001b[39mraise\u001b[39;00m CommError(\u001b[39m\"\u001b[39m\u001b[39mfailed to open a connection\u001b[39m\u001b[39m\"\u001b[39m) \u001b[39mfrom\u001b[39;00m \u001b[39merr\u001b[39;00m\n",
      "\u001b[1;31mCommError\u001b[0m: failed to open a connection"
     ]
    }
   ],
   "source": [
    "#___________read muliple tags at once_________\n",
    "print('read_multiple tags at once: \\n' ,read_multiple())"
   ]
  },
  {
   "cell_type": "markdown",
   "id": "23d42c13",
   "metadata": {},
   "source": [
    "### Save to LINUX"
   ]
  },
  {
   "cell_type": "code",
   "execution_count": null,
   "id": "261a4a2a",
   "metadata": {},
   "outputs": [
    {
     "name": "stdout",
     "output_type": "stream",
     "text": [
      "PATH2 C:\\ML_Projects\\ABB_Pycomm\\examples\\Datasets\\Fri_Feb_18_10-51-15_2022\\.csv\n"
     ]
    }
   ],
   "source": [
    "#Run these lines to save files @ Linux Environments\n",
    "\n",
    "#PATH2 = r'/mnt/c/ML_Projects/ABB_Pycomm/docker_examples_ver2/Datalog_Unix_' + name_of_file + '.csv' #(use \"r\" before the path string to address special character, such as '\\'). Don't forget to put the file name at the end of the path + '.csv'\n",
    "#save_path = r'/mnt/c/ML_Projects/ABB_Pycomm_ver_2/examples'\n",
    "\n",
    "#PATH2 = os.path.join(save_path, name_of_file, \".csv\")\n",
    "# PATH2 = os.path.join(save_path, \"name_of_file.csv\")\n",
    "\n",
    "#print('PATH2' ,PATH2)\n",
    "#df.to_csv(PATH2)\n"
   ]
  },
  {
   "cell_type": "markdown",
   "id": "e85d4bb1",
   "metadata": {},
   "source": [
    "## Write Value to Controller"
   ]
  },
  {
   "cell_type": "code",
   "execution_count": null,
   "id": "9467c218",
   "metadata": {},
   "outputs": [
    {
     "name": "stdout",
     "output_type": "stream",
     "text": [
      "___________Start writing_____________\n",
      "write_single_Position_SetpointA: ..............start writing.................\n",
      "write_single_Position_SetpointB: ..............start writing.................\n"
     ]
    }
   ],
   "source": [
    "# Write tags to the controller\n",
    "print('___________Start writing_____________')\n",
    "try:\n",
    "    write_single_setA(7)\n",
    "except Exception as e:\n",
    "    print(\"Failed to update Position_SetpointA ,ERROR: \" + str(e))\n",
    "\n",
    "try:\n",
    "    write_single_setB(9)\n",
    "except Exception as e:\n",
    "    print(\"Failed to update Position_SetpointA ,ERROR: \" + str(e))"
   ]
  },
  {
   "cell_type": "code",
   "execution_count": null,
   "id": "b5331af1",
   "metadata": {},
   "outputs": [],
   "source": []
  }
 ],
 "metadata": {
  "kernelspec": {
   "display_name": "Python 3",
   "language": "python",
   "name": "python3"
  },
  "language_info": {
   "codemirror_mode": {
    "name": "ipython",
    "version": 3
   },
   "file_extension": ".py",
   "mimetype": "text/x-python",
   "name": "python",
   "nbconvert_exporter": "python",
   "pygments_lexer": "ipython3",
   "version": "3.9.10"
  }
 },
 "nbformat": 4,
 "nbformat_minor": 5
}
